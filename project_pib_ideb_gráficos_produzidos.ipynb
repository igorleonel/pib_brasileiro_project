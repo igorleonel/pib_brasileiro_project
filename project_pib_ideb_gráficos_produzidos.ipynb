{
  "nbformat": 4,
  "nbformat_minor": 0,
  "metadata": {
    "colab": {
      "provenance": []
    },
    "kernelspec": {
      "name": "python3",
      "display_name": "Python 3"
    },
    "language_info": {
      "name": "python"
    }
  },
  "cells": [
    {
      "cell_type": "markdown",
      "source": [
        "# Gráfico de Composição"
      ],
      "metadata": {
        "id": "zHhbTOajg1O8"
      }
    },
    {
      "cell_type": "markdown",
      "source": [
        "## Gráfico de Pizza"
      ],
      "metadata": {
        "id": "J2lrwkTtg5kq"
      }
    },
    {
      "cell_type": "markdown",
      "source": [
        "![Gráfico de Pizza](https://github.com/igorleonel/pib_ideb_brasileiro_project/blob/main/imagens/Tipos_Graficos/graficos/grafico_pizza.png?raw=True)"
      ],
      "metadata": {
        "id": "-VWdfa5Atmar"
      }
    },
    {
      "cell_type": "markdown",
      "source": [
        "## Gráfico de Rosca"
      ],
      "metadata": {
        "id": "I4sqGVUMvw_q"
      }
    },
    {
      "cell_type": "markdown",
      "source": [
        "![Gráfico de Rosca](https://github.com/igorleonel/pib_ideb_brasileiro_project/blob/main/imagens/Tipos_Graficos/graficos/grafico_pergunta1.png?raw=True)"
      ],
      "metadata": {
        "id": "M-e1MPCpvzL_"
      }
    },
    {
      "cell_type": "markdown",
      "source": [
        "## Gráfico de Cascata"
      ],
      "metadata": {
        "id": "GgYt6ywWwUlu"
      }
    },
    {
      "cell_type": "markdown",
      "source": [
        "![Gráfico Cascata](https://github.com/igorleonel/pib_ideb_brasileiro_project/blob/main/imagens/Tipos_Graficos/graficos/grafico_cascata_decrescimos_acrescimos.png?raw=True)"
      ],
      "metadata": {
        "id": "Pqj4Xb6I9Gmy"
      }
    },
    {
      "cell_type": "markdown",
      "source": [
        "## Gráfico de colunas agrupadas x empilhadas"
      ],
      "metadata": {
        "id": "ugcDU4WE9Wjn"
      }
    },
    {
      "cell_type": "markdown",
      "source": [
        "![Gráfico de colunas agrupadas](https://github.com/igorleonel/pib_ideb_brasileiro_project/blob/main/imagens/Tipos_Graficos/graficos/grafico_colunas_agrupadas_empilhadas.png?raw=True)"
      ],
      "metadata": {
        "id": "1i5qia62-Yw2"
      }
    },
    {
      "cell_type": "markdown",
      "source": [
        "![Gráfico de barras empilhadas](https://github.com/igorleonel/pib_ideb_brasileiro_project/blob/main/imagens/Tipos_Graficos/graficos/grafico_pergunta9.png?raw=True)"
      ],
      "metadata": {
        "id": "bYpe3FcOAn_V"
      }
    },
    {
      "cell_type": "markdown",
      "source": [
        "## Gráfico de Áreas"
      ],
      "metadata": {
        "id": "RY4_1Ln6-eWM"
      }
    },
    {
      "cell_type": "markdown",
      "source": [
        "![Gráfico de Áreas](https://github.com/igorleonel/pib_ideb_brasileiro_project/blob/main/imagens/Tipos_Graficos/graficos/grafico_area.png?raw=True)"
      ],
      "metadata": {
        "id": "e_hCuVBh-nQ8"
      }
    },
    {
      "cell_type": "markdown",
      "source": [
        "## Gráfico de Inclinação"
      ],
      "metadata": {
        "id": "gBh47FzR-rsZ"
      }
    },
    {
      "cell_type": "markdown",
      "source": [
        "![Gráfico de Inclinação](https://github.com/igorleonel/pib_ideb_brasileiro_project/blob/main/imagens/Tipos_Graficos/graficos/grafico_inclinacao_up.png?raw=True)"
      ],
      "metadata": {
        "id": "DTem-VDN_QsB"
      }
    },
    {
      "cell_type": "markdown",
      "source": [
        "# Gráfico de Relacionamento"
      ],
      "metadata": {
        "id": "SnLdmJTu_eTU"
      }
    },
    {
      "cell_type": "markdown",
      "source": [
        "## Gráficos de Dispersão"
      ],
      "metadata": {
        "id": "e35xMdd__gcg"
      }
    },
    {
      "cell_type": "markdown",
      "source": [
        "### Gráfico de dispersão com linhas de tendência"
      ],
      "metadata": {
        "id": "44fd7qpn_o1i"
      }
    },
    {
      "cell_type": "markdown",
      "source": [
        "![Gráfico de Dispersão](https://github.com/igorleonel/pib_ideb_brasileiro_project/blob/main/imagens/Tipos_Graficos/graficos/grafico_dispersao.png?raw=True)"
      ],
      "metadata": {
        "id": "V-8NPOdv_sO7"
      }
    },
    {
      "cell_type": "markdown",
      "source": [
        "### Gráfico de dispersão com cores"
      ],
      "metadata": {
        "id": "yRnPyVhd_3fS"
      }
    },
    {
      "cell_type": "markdown",
      "source": [
        "![Gráfico de dispersão](https://github.com/igorleonel/pib_ideb_brasileiro_project/blob/main/imagens/Tipos_Graficos/graficos/grafico_dispersao_cores.png?raw=True)"
      ],
      "metadata": {
        "id": "335xZ-6s_9bV"
      }
    },
    {
      "cell_type": "markdown",
      "source": [
        "## Gráfico de bolhas"
      ],
      "metadata": {
        "id": "U7hB-gotAC1o"
      }
    },
    {
      "cell_type": "markdown",
      "source": [
        "![Gráfico de bolhas](https://github.com/igorleonel/pib_ideb_brasileiro_project/blob/main/imagens/Tipos_Graficos/graficos/grafico_bolhas.png?raw=True)"
      ],
      "metadata": {
        "id": "pxTv4GuZAI1a"
      }
    },
    {
      "cell_type": "markdown",
      "source": [
        "![Gráfico de bolhas](https://github.com/igorleonel/pib_ideb_brasileiro_project/blob/main/imagens/Tipos_Graficos/graficos/grafico_pergunta15.png?raw=True)"
      ],
      "metadata": {
        "id": "kq5uksjBAcc7"
      }
    }
  ]
}